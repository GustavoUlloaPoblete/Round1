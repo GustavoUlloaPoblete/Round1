{
 "cells": [
  {
   "cell_type": "markdown",
   "id": "2efd9c1b-55f3-4b77-bc8d-82baca01429c",
   "metadata": {},
   "source": [
    "# Tutorial\n",
    "To learn how to generate a Mahalanobis distance map using a simulated toy image"
   ]
  },
  {
   "cell_type": "code",
   "execution_count": 1,
   "id": "eb83245a-2d37-4f2f-9453-038d2e0adf3a",
   "metadata": {},
   "outputs": [],
   "source": [
    "def Suavizar(array,k_size=(3,3,3)):\n",
    "    dim = len(k_size)\n",
    "    mascara, offset, coordenadas = Get_ventana(k_size)\n",
    "    print(offset,array.shape)\n",
    "    array_new = np.zeros_like(array)\n",
    "    if dim ==2:\n",
    "        offset_axis0,offset_axis1=offset\n",
    "        array_pad = np.pad(array,pad_width=((offset_axis0,offset_axis0),(offset_axis1,offset_axis1)),mode='edge')\n",
    "        for i in range(x.shape[0]):\n",
    "            for j in range(x.shape[1]):\n",
    "                i_pad = i+offset_axis0; j_pad = j+offset_axis1\n",
    "                array_new[i,j] = np.mean(array_pad[i_pad+coordenadas[:,0],j_pad+coordenadas[:,1]])\n",
    "    elif dim==3:\n",
    "        offset_axis0,offset_axis1,offset_axis2=offset\n",
    "        array_pad = np.pad(array,pad_width=((offset_axis0,offset_axis0),(offset_axis1,offset_axis1),(offset_axis2,offset_axis2)),mode='edge')\n",
    "        for k in range(x.shape[0]):\n",
    "            for i in range(x.shape[1]):\n",
    "                for j in range(x.shape[2]):\n",
    "                    k_pad = k+offset_axis0; i_pad = i+offset_axis1; j_pad = j+offset_axis2\n",
    "                    array_new[k,i,j] = np.mean(array_pad[k_pad+coordenadas[:,0],i_pad+coordenadas[:,1],j_pad+coordenadas[:,2]])\n",
    "    return array_new\n",
    "def Get_ventana(size_mascara):\n",
    "    offset_axis0 = size_mascara[0]//2\n",
    "    offset_axis1 = size_mascara[1]//2\n",
    "    dim = len(size_mascara)\n",
    "    largo = np.prod(size_mascara)\n",
    "    coordenadas = np.zeros((largo, dim),dtype=np.int16)\n",
    "    indice = 0\n",
    "    if dim==2:\n",
    "        offset = (offset_axis0,offset_axis1)\n",
    "        mascara = np.mgrid[0:size_mascara[0], 0:size_mascara[1]]#-offset\n",
    "        mascara[0] -= offset_axis0\n",
    "        mascara[1] -= offset_axis1\n",
    "        for i in range(mascara.shape[1]):# fila\n",
    "            for j in range(mascara.shape[2]):# columna\n",
    "                coordenadas[indice] = mascara[:,i,j]\n",
    "                indice += 1\n",
    "    elif dim==3:\n",
    "        offset_axis2 = size_mascara[2]//2\n",
    "        offset = (offset_axis0,offset_axis1,offset_axis2)\n",
    "        mascara = np.mgrid[0:size_mascara[0], 0:size_mascara[1], 0:size_mascara[2]]#-offset\n",
    "        mascara[0] -= offset_axis0\n",
    "        mascara[1] -= offset_axis1\n",
    "        mascara[2] -= offset_axis2\n",
    "        for k in range(mascara.shape[1]):# 1er dimensión corresponde a número de slide\n",
    "            for i in range(mascara.shape[2]):# fila\n",
    "                for j in range(mascara.shape[3]):# columna\n",
    "                    coordenadas[indice] = mascara[:,k,i,j]\n",
    "                    indice += 1\n",
    "    return mascara, offset, coordenadas\n",
    "\n",
    "def Get_canal_caracteristicas_3D(canal_3D, Y_3D, lista_caracteristicas, Xhf,size_hf,niveles_hf):\n",
    "    canal_caracteristicas = np.zeros([len(lista_caracteristicas)]+list(canal_3D.shape), dtype=np.float32)\n",
    "    dc = dCaracteristicas(canal_3D, Y_3D, Xhf,size_hf,niveles_hf)# Obtener diccionario pares caracteristica(str):matriz(float)\n",
    "    for c in range(len(lista_caracteristicas)):\n",
    "        caracteristica = lista_caracteristicas[c]\n",
    "        canal_caracteristicas[c] = dc[caracteristica]\n",
    "    return canal_caracteristicas\n",
    "\n",
    "def Cuantizar(array, niveles=32, lim_inf_zero=True):\n",
    "    '''Manera simple de cuantizar'''\n",
    "    if lim_inf_zero:\n",
    "        return np.around( (array-array.min())/(array.max()-array.min()) * niveles).astype(np.int16)\n",
    "    return np.around(array/array.max()*niveles).astype(np.int16)\n",
    "\n",
    "def dCaracteristicas(X3D, Y3D, Xhf, size_hf=(5,5), niveles_hf = 32):# asumiendo imagen 2D de un solo canal\n",
    "    d = {}\n",
    "    dim = len(size_hf)\n",
    "    if dim==2:\n",
    "        mascara_hf, offset_hf, coordenadas_hf = Get_ventana(size_hf)\n",
    "        offset_hf_axis_i, offset_hf_axis_j = offset_hf\n",
    "        offset_hf_axis_k = 0\n",
    "        Xhf_pad = np.pad(Xhf, pad_width=((offset_hf_axis_k,offset_hf_axis_k),(offset_hf_axis_i,offset_hf_axis_i),(offset_hf_axis_j,offset_hf_axis_j)),mode='edge')\n",
    "    elif dim==3:\n",
    "        mascara_hf, offset_hf, coordenadas_hf = Get_ventana(size_hf)\n",
    "        offset_hf_axis_k, offset_hf_axis_i, offset_hf_axis_j = offset_hf\n",
    "        Xhf_pad = np.pad(Xhf, pad_width=((offset_hf_axis_k,offset_hf_axis_k),(offset_hf_axis_i,offset_hf_axis_i),(offset_hf_axis_j,offset_hf_axis_j)),mode='edge')\n",
    "#     print(f'Xhf_pad:{Xhf_pad.dtype, Xhf_pad.shape, np.unique(Xhf_pad)}')\n",
    "#     print(f'mascara_hf:{mascara_hf.shape}, offset_hf:{offset_hf}, coordenadas_hf:{coordenadas_hf.shape}')\n",
    "    hf_ASM = np.zeros(X3D.shape, dtype=np.float32)# (1) ASM or Energy\n",
    "    hf_contrast = np.zeros(X3D.shape, dtype=np.float32)# (2) Contrast\n",
    "    hf_correlation = np.zeros(X3D.shape, dtype=np.float32)# (3) Correlation\n",
    "    hf_homogeneity = np.zeros(X3D.shape, dtype=np.float32)# (5) Homogeneity: Inverse difference moment\n",
    "    hf_entropy = np.zeros(X3D.shape, dtype=np.float32)# (9) Entropy\n",
    "    \n",
    "    d['intensidad'] = np.copy(X3D)\n",
    "    sdf = np.zeros(Y3D.shape,dtype=np.float32)\n",
    "    intensidad_media = np.zeros(X3D.shape,dtype=np.float32)\n",
    "    var = np.zeros(X3D.shape,dtype=np.float32)\n",
    "    gradh = np.zeros(X3D.shape,dtype=np.float32)\n",
    "    gradv = np.zeros(X3D.shape,dtype=np.float32)\n",
    "    laplacian = np.zeros(X3D.shape,dtype=np.float32)\n",
    "    k_h = np.array([[-1,-2,-1],[0,0,0],[1,2,1]])# libro\n",
    "    k_v = np.array([[-1,0,1],[-2,0,2],[-1,0,1]])# libro\n",
    "    k_lpc = np.array([[0,1,0],[1,-4,1],[0,1,0]])# libro\n",
    "    contador=0\n",
    "    for k in range(X3D.shape[0]):\n",
    "        mascara2D, offset2D, coordenadas2D = Get_ventana((3,3))\n",
    "        X2D = X3D[k]\n",
    "        Y2D = Y3D[k]\n",
    "        offset2D_axis_i, offset2D_axis_j = offset2D\n",
    "        X2D_pad = np.pad(X2D,pad_width=((offset2D_axis_i,offset2D_axis_i),(offset2D_axis_j,offset2D_axis_j)),mode='edge')\n",
    "#         X2D_pad = np.pad(X2D,pad_width=offset2D,mode='edge')\n",
    "        sdf[k] = ModuloA.SDF(Y2D)\n",
    "        for i in range(X3D.shape[1]):\n",
    "            for j in range(X3D.shape[2]):\n",
    "                i_pad = i+offset2D_axis_i; j_pad = j+offset2D_axis_j\n",
    "                intensidades2D = X2D_pad[i_pad+mascara2D[0],j_pad+mascara2D[1]]\n",
    "                intensidad_media[k,i,j] = np.mean(intensidades2D)\n",
    "                var[k,i,j] = np.var(intensidades2D)\n",
    "                gradh[k,i,j] = np.sum(intensidades2D*k_h)/4\n",
    "                gradv[k,i,j] = np.sum(intensidades2D*k_v)/4\n",
    "                laplacian[k,i,j] = np.sum(intensidades2D*k_lpc)\n",
    "                \n",
    "                k_pad_hf = k+offset_hf_axis_k; i_pad_hf = i+offset_hf_axis_i; j_pad_hf = j+offset_hf_axis_j\n",
    "                \n",
    "#                 k_pad_hf = k+offset_hf; i_pad_hf = i+offset_hf; j_pad_hf = j+offset_hf\n",
    "                if dim==2:\n",
    "                    intensidades_hf = Xhf_pad[k_pad_hf,i_pad_hf+mascara_hf[0],j_pad_hf+mascara_hf[1]]\n",
    "                elif dim==3:# si solo se usa slide adyacentes, limitar arreglo 3D intensidades_hf\n",
    "                    intensidades_hf = Xhf_pad[k_pad_hf+mascara_hf[0],i_pad_hf+mascara_hf[1],j_pad_hf+mascara_hf[2]]\n",
    "#                 if contador<1:\n",
    "#                     print(f'dim:{dim},intensidades_hf:{intensidades_hf.shape}\\n{intensidades_hf}\\n{intensidades_hf[offset_hf]}')\n",
    "#                 contador+=1\n",
    "                features = mahotas.features.haralick(intensidades_hf,return_mean=True)\n",
    "                hf_ASM[k,i,j] = features[0]\n",
    "                hf_contrast[k,i,j] = features[1]\n",
    "                hf_correlation[k,i,j] = features[2]\n",
    "                hf_homogeneity[k,i,j] = features[4]\n",
    "                hf_entropy[k,i,j] = features[8]\n",
    "    gradMag = np.sqrt((gradh)**2/2+(gradv)**2/2)\n",
    "    gradAng = np.arctan2(gradv, gradh)\n",
    "    d['intensidad_media'] = intensidad_media\n",
    "    d['varianza'] = var\n",
    "    d['gradh'] = gradh\n",
    "    d['gradv'] = gradv\n",
    "    d['gradMag'] = gradMag\n",
    "    d['gradAng'] = gradAng\n",
    "    d['laplacian'] = laplacian\n",
    "    d['sdf'] = sdf\n",
    "    d['hf_ASM'] = hf_ASM\n",
    "    d['hf_contrast'] = hf_contrast\n",
    "    d['hf_correlation'] = hf_correlation\n",
    "    d['hf_homogeneity'] = hf_homogeneity\n",
    "    d['hf_entropy'] = hf_entropy\n",
    "    return d\n"
   ]
  },
  {
   "cell_type": "code",
   "execution_count": 2,
   "id": "258fc441-2088-4894-87b5-9f77c9f4875e",
   "metadata": {},
   "outputs": [
    {
     "name": "stdout",
     "output_type": "stream",
     "text": [
      "(1, 1, 1) (1, 35, 30)\n",
      "109956.20530319214\n",
      "ConvergenceWarning!\n",
      "i,j:(9, 10), mcc:(31, 3)\n"
     ]
    },
    {
     "data": {
      "text/plain": [
       "Text(0.5, 1.0, 'MDF')"
      ]
     },
     "execution_count": 2,
     "metadata": {},
     "output_type": "execute_result"
    },
    {
     "data": {
      "image/png": "[encoded data removed]",
      "text/plain": [
       "<Figure size 1200x500 with 5 Axes>"
      ]
     },
     "metadata": {},
     "output_type": "display_data"
    }
   ],
   "source": [
    "import numpy as np\n",
    "import matplotlib.pyplot as plt\n",
    "from skimage.segmentation import find_boundaries\n",
    "from scipy import ndimage\n",
    "import ModuloA\n",
    "import mahotas\n",
    "\n",
    "\n",
    "# Simulate:\n",
    "# X: textured image (float32 array)\n",
    "# Y: Ground-truth (binary array)\n",
    "\n",
    "# img_size = (1, 25, 30)\n",
    "img_size = (1, 35, 30)# 1xHxW slides\n",
    "np.random.seed(20)\n",
    "\n",
    "mu1, sigma1 = 200, 10 # Hyperintensity\n",
    "x1 = np.random.normal(mu1, sigma1, img_size).astype(np.float32)\n",
    "mu2, sigma2 = 100, 15\n",
    "x2 = np.random.normal(mu2, sigma2, img_size).astype(np.float32)\n",
    "y = np.zeros(img_size, dtype=np.bool_)\n",
    "y[0,7:15,11:17] = True # lesion 1\n",
    "# y[1:5,7:15,11:17] = True # lesion 1\n",
    "# y[1:7,20:22,21:23] = True # lesion 2\n",
    "x1 = y*x1\n",
    "x2 = (1-y)*x2\n",
    "x = x1+x2\n",
    "# print(x.shape,x.dtype)\n",
    "x = Suavizar(x)\n",
    "print(x.sum())\n",
    "X = np.copy(x).astype(np.float32)\n",
    "Y = np.copy(y)\n",
    "dtm = ModuloA.DTM(Y)\n",
    "sdf = ModuloA.SDF(Y)\n",
    "\n",
    "# Generate feature map F (According to the paper)\n",
    "d_POUT11={'sc':'A5GL11','canal':'FLAIR','r':5,'ady':0,'ce':'GL','par_ce':0.1,'prototipo':'prototipo_mediana','gamma_MDF':1.0,'percentil':0.9,'dist':10,'umbral_cc':4}\n",
    "parametros_out=d_POUT11\n",
    "sc = parametros_out['sc']; canal = parametros_out['canal']\n",
    "r = parametros_out['r']; ady = parametros_out['ady']\n",
    "ce = parametros_out['ce']; par_ce = parametros_out['par_ce'];par_ce = 0.3\n",
    "prototipo = parametros_out['prototipo']; gamma_MDF = parametros_out['gamma_MDF']\n",
    "percentil = parametros_out['percentil']; dist = parametros_out['dist']\n",
    "umbral_cc = parametros_out['umbral_cc']\n",
    "\n",
    "# Image features X (For more features, use mahotas and a larger image)\n",
    "# lista_caracteristicas = ['sdf','intensidad','varianza','gradMag']\n",
    "# lista_caracteristicas = ['sdf','intensidad','varianza']\n",
    "feature_list = ['sdf','intensidad','varianza']\n",
    "niveles_hf = 32\n",
    "size_hf = (3,5,5)\n",
    "Xhf = Cuantizar(X, niveles_hf)\n",
    "AC_input = Get_canal_caracteristicas_3D(X,Y,feature_list,Xhf,size_hf,niveles_hf)\n",
    "mdf = ModuloA.MDF(Y, AC_input, r,ady,ce,par_ce,prototipo,gamma_MDF,percentil,dist)\n",
    "# # print(f'mdf:{mdf.shape}')\n",
    "\n",
    "k=0\n",
    "plt.figure(figsize=(12,5))\n",
    "plt.subplot(2,3,1);plt.imshow(X[k],cmap='gray');plt.axis('off');plt.title(\"X\")\n",
    "plt.subplot(2,3,2);plt.imshow(Y[k],cmap='gray', vmin=0, vmax=1);plt.axis('off');plt.title(\"Y\")\n",
    "plt.subplot(2,3,4);plt.imshow(dtm[k],cmap='gray');plt.axis('off');plt.title(\"DTM\")\n",
    "plt.subplot(2,3,5);plt.imshow(sdf[k],cmap='gray');plt.axis('off');plt.title(\"SDF\")\n",
    "plt.subplot(2,3,6);plt.imshow(mdf,cmap='gray');plt.axis('off');plt.title(\"MDF\")"
   ]
  },
  {
   "cell_type": "code",
   "execution_count": null,
   "id": "75890149-b238-4d3e-9907-5c55f14f72ff",
   "metadata": {},
   "outputs": [],
   "source": []
  },
  {
   "cell_type": "code",
   "execution_count": 15,
   "id": "672bd4d2-b60b-4240-b7ff-a833ccfa25f9",
   "metadata": {},
   "outputs": [
    {
     "data": {
      "text/plain": [
       "Text(0.5, 1.0, 'SDF')"
      ]
     },
     "execution_count": 15,
     "metadata": {},
     "output_type": "execute_result"
    },
    {
     "data": {
      "image/png": "[encoded data removed]",
      "text/plain": [
       "<Figure size 1200x500 with 6 Axes>"
      ]
     },
     "metadata": {},
     "output_type": "display_data"
    }
   ],
   "source": [
    "import Biblioteca_General as bbg\n",
    "dtm_1 = ModuloA.DTM(Y)\n",
    "sdf_1 = ModuloA.SDF(Y)\n",
    "dtm_2 = bbg.DTM(Y)\n",
    "sdf_2 = bbg.SDF(Y)\n",
    "\n",
    "k=0\n",
    "plt.figure(figsize=(12,5))\n",
    "plt.subplot(2,4,1);plt.imshow(X[k],cmap='gray');plt.axis('off');plt.title(\"X\")\n",
    "plt.subplot(2,4,2);plt.imshow(Y[k],cmap='gray', vmin=0, vmax=1);plt.axis('off');plt.title(\"Y\")\n",
    "plt.subplot(2,4,3);plt.imshow(dtm_2[k],cmap='gray');plt.axis('off');plt.title(\"DTM\")\n",
    "plt.subplot(2,4,4);plt.imshow(sdf_2[k],cmap='gray');plt.axis('off');plt.title(\"SDF\")\n",
    "plt.subplot(2,4,5);plt.imshow(dtm_2[k],cmap='gray');plt.axis('off');plt.title(\"DTM\")\n",
    "plt.subplot(2,4,6);plt.imshow(sdf_2[k],cmap='gray');plt.axis('off');plt.title(\"SDF\")"
   ]
  },
  {
   "cell_type": "code",
   "execution_count": 7,
   "id": "63878760-6906-4840-b763-f74e0f2bd41b",
   "metadata": {},
   "outputs": [
    {
     "name": "stdout",
     "output_type": "stream",
     "text": [
      "(1, 35, 30)\n",
      "(1, 35, 30)\n",
      "(1, 35, 30)\n"
     ]
    }
   ],
   "source": [
    "print(Y.shape)\n",
    "print(dtm_2.shape)\n",
    "print(sdf_2.shape)"
   ]
  },
  {
   "cell_type": "code",
   "execution_count": 18,
   "id": "ac5b1f17-d07c-49ac-b332-5c83bd72b2ae",
   "metadata": {},
   "outputs": [
    {
     "name": "stdout",
     "output_type": "stream",
     "text": [
      "10388.07\n",
      "10388.07\n",
      "True\n",
      "10324.07\n",
      "10324.07\n",
      "True\n"
     ]
    }
   ],
   "source": [
    "print(dtm_1.sum())\n",
    "print(dtm_2.sum())\n",
    "print(np.array_equal(dtm_1,dtm_2))\n",
    "\n",
    "print(sdf_1.sum())\n",
    "print(sdf_2.sum())\n",
    "print(np.array_equal(sdf_1,sdf_2))"
   ]
  }
 ],
 "metadata": {
  "kernelspec": {
   "display_name": "Python 3 (ipykernel)",
   "language": "python",
   "name": "python3"
  },
  "language_info": {
   "codemirror_mode": {
    "name": "ipython",
    "version": 3
   },
   "file_extension": ".py",
   "mimetype": "text/x-python",
   "name": "python",
   "nbconvert_exporter": "python",
   "pygments_lexer": "ipython3",
   "version": "3.12.2"
  }
 },
 "nbformat": 4,
 "nbformat_minor": 5
}
